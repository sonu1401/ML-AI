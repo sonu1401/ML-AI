{
 "cells": [
  {
   "cell_type": "markdown",
   "metadata": {},
   "source": [
    "Basic : if statements:"
   ]
  },
  {
   "cell_type": "code",
   "execution_count": null,
   "metadata": {},
   "outputs": [],
   "source": [
    "syntax :\n",
    "if (condition 1):\n",
    "    print(\"hI we are in\")        "
   ]
  },
  {
   "cell_type": "code",
   "execution_count": null,
   "metadata": {},
   "outputs": [],
   "source": [
    "syntax:\n",
    "if(condition1):\n",
    "    print(\"hi\")\n",
    "elif(condition2):\n",
    "    print(\"hello\")\n",
    "elif(condition3):\n",
    "    print(\"hello2\")\n",
    "    \n",
    "    \n",
    "    --------------------\n",
    "    \n",
    "    \n",
    "else:\n",
    "    print(\"Yes it is not satisfied any above condition\")"
   ]
  },
  {
   "cell_type": "code",
   "execution_count": null,
   "metadata": {},
   "outputs": [],
   "source": [
    "score = 89  -- First class  --- ( > 60)\n",
    "score= 56   -- Seconds Class  ( 40 - 60)\n",
    "score= 30  -- Third class  ( 30-40)\n",
    "score < = 30 -- Failed  (< 30)"
   ]
  },
  {
   "cell_type": "code",
   "execution_count": 3,
   "metadata": {},
   "outputs": [
    {
     "name": "stdout",
     "output_type": "stream",
     "text": [
      "Enter your score   : 56\n",
      "second class\n"
     ]
    }
   ],
   "source": [
    "score = int(input(\"Enter your score   : \"))\n",
    "if (score >= 60):\n",
    "    print(\"First class\")\n",
    "elif((score >= 40) & (score < 60)):  \n",
    "    print(\"second class\")\n",
    "elif((score >= 30) & (score < 40)):\n",
    "    print(\"third class\")\n",
    "else:\n",
    "    print(\"Failed\")   "
   ]
  },
  {
   "cell_type": "code",
   "execution_count": null,
   "metadata": {},
   "outputs": [],
   "source": [
    "Generic Question : A , B , C - find the greatest number among three values.   -- Assignment "
   ]
  },
  {
   "cell_type": "code",
   "execution_count": null,
   "metadata": {},
   "outputs": [],
   "source": [
    "# Example : enter number and check whether it is even , odd or divisible by 3"
   ]
  },
  {
   "cell_type": "code",
   "execution_count": null,
   "metadata": {},
   "outputs": [],
   "source": [
    "even -- 2,4,6,8,10...\n",
    "odd -- 1,3,5,,7\n",
    "divisible by 3 -- 3,6,9,12,"
   ]
  },
  {
   "cell_type": "code",
   "execution_count": null,
   "metadata": {},
   "outputs": [],
   "source": [
    "# ( + ,- , * , /, %, |, & )"
   ]
  },
  {
   "cell_type": "code",
   "execution_count": 4,
   "metadata": {},
   "outputs": [
    {
     "name": "stdout",
     "output_type": "stream",
     "text": [
      "Enter your number   : 27\n",
      "This is odd number\n"
     ]
    }
   ],
   "source": [
    "num = int(input(\"Enter your number   : \")) \n",
    "if (num%2 ==0):\n",
    "    print(\"This is even number\")\n",
    "elif(num%2!=0):\n",
    "    print(\"This is odd number\")\n",
    "elif(num%3 == 0):\n",
    "    print(\"This is divisible by 3\")\n",
    "else:\n",
    "    print(\"Invalid number\")"
   ]
  },
  {
   "cell_type": "markdown",
   "metadata": {},
   "source": [
    "# Looping  -- for , while "
   ]
  },
  {
   "cell_type": "code",
   "execution_count": 5,
   "metadata": {},
   "outputs": [
    {
     "data": {
      "text/plain": [
       "range(1, 11)"
      ]
     },
     "execution_count": 5,
     "metadata": {},
     "output_type": "execute_result"
    }
   ],
   "source": [
    "range(1,11)"
   ]
  },
  {
   "cell_type": "code",
   "execution_count": 6,
   "metadata": {},
   "outputs": [
    {
     "name": "stdout",
     "output_type": "stream",
     "text": [
      "1\n",
      "2\n",
      "3\n",
      "4\n",
      "5\n",
      "6\n",
      "7\n",
      "8\n",
      "9\n",
      "10\n"
     ]
    }
   ],
   "source": [
    "#syntax :\n",
    "for i in range(1,11):\n",
    "    print(i)"
   ]
  },
  {
   "cell_type": "code",
   "execution_count": 7,
   "metadata": {},
   "outputs": [
    {
     "name": "stdout",
     "output_type": "stream",
     "text": [
      "2\n",
      "4\n",
      "6\n",
      "8\n",
      "10\n"
     ]
    }
   ],
   "source": [
    "for i in range(1,11):\n",
    "    if(i%2 == 0):\n",
    "        print(i)"
   ]
  },
  {
   "cell_type": "code",
   "execution_count": 8,
   "metadata": {},
   "outputs": [],
   "source": [
    "str = \"Hi This is Sonu from Bangalore\""
   ]
  },
  {
   "cell_type": "code",
   "execution_count": 10,
   "metadata": {},
   "outputs": [
    {
     "name": "stdout",
     "output_type": "stream",
     "text": [
      "i\n",
      "i\n",
      "i\n",
      "o\n",
      "u\n",
      "o\n",
      "a\n",
      "a\n",
      "o\n",
      "e\n"
     ]
    }
   ],
   "source": [
    "for i in str:\n",
    "    if i in 'aeiou':\n",
    "        print(i)"
   ]
  },
  {
   "cell_type": "code",
   "execution_count": 13,
   "metadata": {},
   "outputs": [
    {
     "name": "stdout",
     "output_type": "stream",
     "text": [
      "0\n",
      "1\n",
      "1\n",
      "1\n",
      "1\n",
      "2\n",
      "2\n",
      "2\n",
      "3\n",
      "3\n",
      "3\n",
      "3\n",
      "4\n",
      "4\n",
      "5\n",
      "5\n",
      "5\n",
      "5\n",
      "6\n",
      "6\n",
      "6\n",
      "6\n",
      "7\n",
      "7\n",
      "7\n",
      "8\n",
      "8\n",
      "9\n",
      "9\n",
      "10\n"
     ]
    }
   ],
   "source": [
    "# To find number of vowels in string\n",
    "c= 0\n",
    "for i in str:\n",
    "    if i in 'aeiou':\n",
    "        c = c+1\n",
    "    print(c)"
   ]
  },
  {
   "cell_type": "code",
   "execution_count": 12,
   "metadata": {},
   "outputs": [
    {
     "name": "stdout",
     "output_type": "stream",
     "text": [
      "10\n"
     ]
    }
   ],
   "source": [
    "# To find number of vowels in string\n",
    "c= 0\n",
    "for i in str:\n",
    "    if i in 'aeiou':\n",
    "        c = c+1\n",
    "print(c)"
   ]
  },
  {
   "cell_type": "code",
   "execution_count": null,
   "metadata": {},
   "outputs": [],
   "source": [
    "num = '897789383989399989889'\n",
    "ask was to count even and odd number in the given number"
   ]
  },
  {
   "cell_type": "code",
   "execution_count": 20,
   "metadata": {},
   "outputs": [
    {
     "name": "stdout",
     "output_type": "stream",
     "text": [
      "7\n",
      "14\n"
     ]
    }
   ],
   "source": [
    "num = '897789383989399989889'\n",
    "even = 0\n",
    "odd=0\n",
    "for i in num:\n",
    "    if (int(i)%2==0):\n",
    "        even = even +1\n",
    "    elif(int(i)%2 !=0):\n",
    "        odd=odd+1\n",
    "print(even)\n",
    "print(odd)  "
   ]
  },
  {
   "cell_type": "markdown",
   "metadata": {},
   "source": [
    "## for loop in list :"
   ]
  },
  {
   "cell_type": "code",
   "execution_count": 24,
   "metadata": {},
   "outputs": [
    {
     "name": "stdout",
     "output_type": "stream",
     "text": [
      "the fruit num is 2\n",
      "the veg num is 2\n",
      "other item num is 1\n"
     ]
    }
   ],
   "source": [
    "# number of fruits = ?\n",
    "# number of veg = ?\n",
    "\n",
    "basket = ['apple','potato','mango','onion','toothbrush']\n",
    "fruit_num = 0\n",
    "veg_num=0\n",
    "other_item = 0\n",
    "for i in basket:\n",
    "    if i in ('apple','mango'):\n",
    "        fruit_num = fruit_num +1\n",
    "    elif i in ('potato','onion'):\n",
    "        veg_num=veg_num+1\n",
    "    else:\n",
    "        other_item =other_item +1\n",
    "print(\"the fruit num is\",fruit_num)\n",
    "print(\"the veg num is\" ,veg_num)\n",
    "print(\"other item num is\", other_item)        "
   ]
  },
  {
   "cell_type": "code",
   "execution_count": 25,
   "metadata": {},
   "outputs": [
    {
     "name": "stdout",
     "output_type": "stream",
     "text": [
      "the fruit num is 2\n",
      "the veg num is 2\n",
      "other item num is 1\n"
     ]
    }
   ],
   "source": [
    "basket = ['apple','potato','mango','onion','toothbrush']\n",
    "fruit_list = ['apple','mango']\n",
    "veg_list = ['potato','onion']\n",
    "fruit_num = 0\n",
    "veg_num=0\n",
    "other_item = 0\n",
    "for i in basket:\n",
    "    if i in fruit_list:\n",
    "        fruit_num = fruit_num +1\n",
    "    elif i in veg_list:\n",
    "        veg_num=veg_num+1\n",
    "    else:\n",
    "        other_item =other_item +1\n",
    "print(\"the fruit num is\",fruit_num)\n",
    "print(\"the veg num is\" ,veg_num)\n",
    "print(\"other item num is\", other_item)   "
   ]
  },
  {
   "cell_type": "code",
   "execution_count": 27,
   "metadata": {},
   "outputs": [],
   "source": [
    "str = \" @Ram, Please take care of #taffic rules in #Bangalore\"\n",
    "# startswith(\"@\")\n",
    "# startswith('#')"
   ]
  },
  {
   "cell_type": "code",
   "execution_count": 33,
   "metadata": {},
   "outputs": [
    {
     "name": "stdout",
     "output_type": "stream",
     "text": [
      "1\n",
      "2\n"
     ]
    }
   ],
   "source": [
    "num_at = 0\n",
    "num_hash = 0\n",
    "for i in str.split():\n",
    "    if(i.startswith('@')):\n",
    "        num_at +=1\n",
    "    elif(i.startswith('#')):\n",
    "        num_hash +=1\n",
    "print(num_at)\n",
    "print(num_hash)"
   ]
  },
  {
   "cell_type": "markdown",
   "metadata": {},
   "source": [
    "## for loop in dictionary :"
   ]
  },
  {
   "cell_type": "code",
   "execution_count": 34,
   "metadata": {},
   "outputs": [
    {
     "data": {
      "text/plain": [
       "{1: ['Shivam', 20], 2: ['Narayan', 30], 3: ['Saif', 45]}"
      ]
     },
     "execution_count": 34,
     "metadata": {},
     "output_type": "execute_result"
    }
   ],
   "source": [
    "student = {1: ['Shivam',20], 2: ['Narayan',30],3:['Saif',45]}\n",
    "student"
   ]
  },
  {
   "cell_type": "code",
   "execution_count": 35,
   "metadata": {},
   "outputs": [
    {
     "data": {
      "text/plain": [
       "['Shivam', 20]"
      ]
     },
     "execution_count": 35,
     "metadata": {},
     "output_type": "execute_result"
    }
   ],
   "source": [
    "student.get(1)"
   ]
  },
  {
   "cell_type": "code",
   "execution_count": 36,
   "metadata": {},
   "outputs": [
    {
     "data": {
      "text/plain": [
       "['Narayan', 30]"
      ]
     },
     "execution_count": 36,
     "metadata": {},
     "output_type": "execute_result"
    }
   ],
   "source": [
    "student[2]"
   ]
  },
  {
   "cell_type": "code",
   "execution_count": 39,
   "metadata": {},
   "outputs": [],
   "source": [
    "import pandas as pd\n",
    "df = pd.DataFrame(student)"
   ]
  },
  {
   "cell_type": "code",
   "execution_count": 42,
   "metadata": {},
   "outputs": [
    {
     "data": {
      "text/html": [
       "<div>\n",
       "<style scoped>\n",
       "    .dataframe tbody tr th:only-of-type {\n",
       "        vertical-align: middle;\n",
       "    }\n",
       "\n",
       "    .dataframe tbody tr th {\n",
       "        vertical-align: top;\n",
       "    }\n",
       "\n",
       "    .dataframe thead th {\n",
       "        text-align: right;\n",
       "    }\n",
       "</style>\n",
       "<table border=\"1\" class=\"dataframe\">\n",
       "  <thead>\n",
       "    <tr style=\"text-align: right;\">\n",
       "      <th></th>\n",
       "      <th>Name</th>\n",
       "      <th>Age</th>\n",
       "    </tr>\n",
       "  </thead>\n",
       "  <tbody>\n",
       "    <tr>\n",
       "      <th>1</th>\n",
       "      <td>Shivam</td>\n",
       "      <td>20</td>\n",
       "    </tr>\n",
       "    <tr>\n",
       "      <th>2</th>\n",
       "      <td>Narayan</td>\n",
       "      <td>30</td>\n",
       "    </tr>\n",
       "    <tr>\n",
       "      <th>3</th>\n",
       "      <td>Saif</td>\n",
       "      <td>45</td>\n",
       "    </tr>\n",
       "  </tbody>\n",
       "</table>\n",
       "</div>"
      ],
      "text/plain": [
       "      Name Age\n",
       "1   Shivam  20\n",
       "2  Narayan  30\n",
       "3     Saif  45"
      ]
     },
     "execution_count": 42,
     "metadata": {},
     "output_type": "execute_result"
    }
   ],
   "source": [
    "df1=df.T\n",
    "df1.columns = ['Name','Age']\n",
    "df1"
   ]
  },
  {
   "cell_type": "code",
   "execution_count": 44,
   "metadata": {},
   "outputs": [
    {
     "name": "stdout",
     "output_type": "stream",
     "text": [
      "1\n",
      "2\n",
      "3\n"
     ]
    }
   ],
   "source": [
    "for i in student:\n",
    "    print(i)"
   ]
  },
  {
   "cell_type": "code",
   "execution_count": 45,
   "metadata": {},
   "outputs": [
    {
     "data": {
      "text/plain": [
       "{1: ['Shivam', 20], 2: ['Narayan', 30], 3: ['Saif', 45]}"
      ]
     },
     "execution_count": 45,
     "metadata": {},
     "output_type": "execute_result"
    }
   ],
   "source": [
    "student"
   ]
  },
  {
   "cell_type": "code",
   "execution_count": 49,
   "metadata": {},
   "outputs": [
    {
     "name": "stdout",
     "output_type": "stream",
     "text": [
      "1\n",
      "2\n",
      "3\n"
     ]
    }
   ],
   "source": [
    "for i in student:\n",
    "    print(i)"
   ]
  },
  {
   "cell_type": "code",
   "execution_count": 46,
   "metadata": {},
   "outputs": [
    {
     "name": "stdout",
     "output_type": "stream",
     "text": [
      "1\n",
      "2\n",
      "3\n"
     ]
    }
   ],
   "source": [
    "for key in student.keys():\n",
    "    print(key)   "
   ]
  },
  {
   "cell_type": "code",
   "execution_count": 47,
   "metadata": {},
   "outputs": [
    {
     "name": "stdout",
     "output_type": "stream",
     "text": [
      "['Shivam', 20]\n",
      "['Narayan', 30]\n",
      "['Saif', 45]\n"
     ]
    }
   ],
   "source": [
    "for val in student.values():\n",
    "    print(val)  "
   ]
  },
  {
   "cell_type": "code",
   "execution_count": 48,
   "metadata": {},
   "outputs": [
    {
     "name": "stdout",
     "output_type": "stream",
     "text": [
      "1 ['Shivam', 20]\n",
      "2 ['Narayan', 30]\n",
      "3 ['Saif', 45]\n"
     ]
    }
   ],
   "source": [
    "for key,val in student.items():\n",
    "    print(key,val)"
   ]
  },
  {
   "cell_type": "code",
   "execution_count": null,
   "metadata": {},
   "outputs": [],
   "source": []
  }
 ],
 "metadata": {
  "kernelspec": {
   "display_name": "Python 3",
   "language": "python",
   "name": "python3"
  },
  "language_info": {
   "codemirror_mode": {
    "name": "ipython",
    "version": 3
   },
   "file_extension": ".py",
   "mimetype": "text/x-python",
   "name": "python",
   "nbconvert_exporter": "python",
   "pygments_lexer": "ipython3",
   "version": "3.6.4"
  }
 },
 "nbformat": 4,
 "nbformat_minor": 2
}
