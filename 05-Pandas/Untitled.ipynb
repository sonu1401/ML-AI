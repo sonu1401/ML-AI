{
 "cells": [
  {
   "cell_type": "code",
   "execution_count": null,
   "metadata": {},
   "outputs": [],
   "source": [
    "def compare(data1,data2):\n",
    "    lst=[]\n",
    "    for i in data1.columns:\n",
    "        for j in i:\n",
    "            if data1[i].columns==data2[j].columns:\n",
    "                lst.append(data1.values==data2.values)\n",
    "            else:\n",
    "                pass\n",
    "    return(pd.DataFrame(lst))\n",
    "\n",
    "com=compare(data1,data2)  "
   ]
  }
 ],
 "metadata": {
  "kernelspec": {
   "display_name": "Python 3",
   "language": "python",
   "name": "python3"
  },
  "language_info": {
   "codemirror_mode": {
    "name": "ipython",
    "version": 3
   },
   "file_extension": ".py",
   "mimetype": "text/x-python",
   "name": "python",
   "nbconvert_exporter": "python",
   "pygments_lexer": "ipython3",
   "version": "3.7.4"
  }
 },
 "nbformat": 4,
 "nbformat_minor": 2
}
